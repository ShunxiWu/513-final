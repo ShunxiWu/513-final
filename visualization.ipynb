import pandas as pd
import matplotlib.pyplot as plt

# 读取CSV文件
df = pd.read_csv(r'C:\Users\Shun-Xi Wu\Desktop\data\axi.csv')

# 提取时间列
time = pd.to_datetime(df['Time'])

# 提取每个动作的数据列
actions = ['IMU1 AccX', 'IMU1 AccY', 'IMU1 AccZ']  # 这里仅示例三个动作的加速度数据
# 也可以根据需要修改为其他动作列

# 创建一个新的图形，并设置子图布局
fig, axs = plt.subplots(len(actions), 1, figsize=(10, 6), sharex=True)

# 对每个动作创建子图并绘制数据
for i, action in enumerate(actions):
    axs[i].plot(time, df[action], label=action)
    axs[i].set_ylabel(action)
    axs[i].legend()

# 添加标题和共享的x轴标签
fig.suptitle('Actions Visualization')
plt.xlabel('Time')

# 调整子图间距
plt.tight_layout()

# 显示图形
plt.show()
